{
 "cells": [
  {
   "cell_type": "markdown",
   "metadata": {},
   "source": [
    "## Predição de sucesso de um filme\n",
    "\n",
    "**Integrantes:**<br />\n",
    "Hugo Gonçalves Rocha<br />\n",
    "Alfredo Acerbi\n",
    "\n",
    "**Objetivo do projeto:**\n",
    "A ideia principal do projeto, por ora, é criar um programa que leia informações sobre o filme como atores participantes, diretor, roteirista e produtor e de acordo com a probabilidade dos mesmos já terem atuado em filmes de sucesso, classificar o filme quanto à sua qualidade. Pretendemos fazer com que o elenco tenha um peso diferente da equipe de produção na nota do filme."
   ]
  },
  {
   "cell_type": "code",
   "execution_count": 33,
   "metadata": {
    "collapsed": true
   },
   "outputs": [],
   "source": [
    "import pandas as pd\n",
    "import json\n",
    "from collections import Counter"
   ]
  },
  {
   "cell_type": "code",
   "execution_count": 3,
   "metadata": {
    "collapsed": true
   },
   "outputs": [],
   "source": [
    "dados_filme = pd.read_csv('tmdb_5000_movies.csv')\n",
    "dados_creditos = pd.read_csv('tmdb_5000_credits.csv')"
   ]
  },
  {
   "cell_type": "code",
   "execution_count": 4,
   "metadata": {
    "collapsed": true
   },
   "outputs": [],
   "source": [
    "titulo = dados_filme['title']\n",
    "nota = dados_filme['vote_average']\n",
    "elenco = dados_creditos['cast']\n",
    "equipe = dados_creditos['crew']\n",
    "votos = dados_filme['vote_count']\n",
    "\n",
    "dados = pd.concat([titulo,elenco,equipe,nota,votos], axis=1)\n",
    "dados = dados[dados['vote_count']>100]\n",
    "dados = pd.concat([dados['title'],dados['cast'],dados['crew'],dados['vote_average']],axis=1)\n",
    "dados.columns = ['Título','Elenco','Equipe','Nota']\n",
    "\n",
    "filmes_3 = dados.loc[(dados.Nota<4)]\n",
    "filmes_4 = dados.loc[(dados.Nota>=4) & (dados.Nota<5)]\n",
    "filmes_5 = dados.loc[(dados.Nota>=5) & (dados.Nota<6)]\n",
    "filmes_6 = dados.loc[(dados.Nota>=6) & (dados.Nota<7)]\n",
    "filmes_7 = dados.loc[(dados.Nota>=7) & (dados.Nota<8)]\n",
    "filmes_8 = dados.loc[(dados.Nota>8)]\n"
   ]
  },
  {
   "cell_type": "code",
   "execution_count": 30,
   "metadata": {
    "scrolled": true
   },
   "outputs": [],
   "source": [
    "f3_elenco = []\n",
    "f3_equipe = []\n",
    "\n",
    "for elenco in filmes_3['Elenco']:\n",
    "    elenco = json.loads(elenco)\n",
    "    for membro in elenco:\n",
    "        f3_elenco.append(membro['name'])\n",
    "\n",
    "for equipe in filmes_3['Equipe']:\n",
    "    equipe = json.loads(equipe)\n",
    "    for membro in equipe:\n",
    "        if membro['job'] == 'Director':\n",
    "            f3_equipe.append(membro['name'])\n",
    "        if membro['job'] == 'Screenplay':\n",
    "            f3_equipe.append(membro['name'])\n",
    "        if membro['job'] == 'Producer':\n",
    "            f3_equipe.append(membro['name'])\n",
    "        \n",
    "        \n",
    "f4_elenco = []\n",
    "f4_equipe = []\n",
    "\n",
    "for elenco in filmes_4['Elenco']:\n",
    "    elenco = json.loads(elenco)\n",
    "    for membro in elenco:\n",
    "        f4_elenco.append(membro['name'])\n",
    "\n",
    "for equipe in filmes_4['Equipe']:\n",
    "    equipe = json.loads(equipe)\n",
    "    for membro in equipe:\n",
    "        if membro['job'] == 'Director':\n",
    "            f4_equipe.append(membro['name'])\n",
    "        if membro['job'] == 'Screenplay':\n",
    "            f4_equipe.append(membro['name'])\n",
    "        if membro['job'] == 'Producer':\n",
    "            f4_equipe.append(membro['name'])\n",
    "            \n",
    "\n",
    "f5_elenco = []\n",
    "f5_equipe = []\n",
    "\n",
    "for elenco in filmes_5['Elenco']:\n",
    "    elenco = json.loads(elenco)\n",
    "    for membro in elenco:\n",
    "        f5_elenco.append(membro['name'])\n",
    "\n",
    "for equipe in filmes_5['Equipe']:\n",
    "    equipe = json.loads(equipe)\n",
    "    for membro in equipe:\n",
    "        if membro['job'] == 'Director':\n",
    "            f5_equipe.append(membro['name'])\n",
    "        if membro['job'] == 'Screenplay':\n",
    "            f5_equipe.append(membro['name'])\n",
    "        if membro['job'] == 'Producer':\n",
    "            f5_equipe.append(membro['name'])\n",
    "            \n",
    "\n",
    "f6_elenco = []\n",
    "f6_equipe = []\n",
    "\n",
    "for elenco in filmes_6['Elenco']:\n",
    "    elenco = json.loads(elenco)\n",
    "    for membro in elenco:\n",
    "        f6_elenco.append(membro['name'])\n",
    "\n",
    "for equipe in filmes_6['Equipe']:\n",
    "    equipe = json.loads(equipe)\n",
    "    for membro in equipe:\n",
    "        if membro['job'] == 'Director':\n",
    "            f6_equipe.append(membro['name'])\n",
    "        if membro['job'] == 'Screenplay':\n",
    "            f6_equipe.append(membro['name'])\n",
    "        if membro['job'] == 'Producer':\n",
    "            f6_equipe.append(membro['name'])\n",
    "            \n",
    "            \n",
    "f7_elenco = []\n",
    "f7_equipe = []\n",
    "\n",
    "for elenco in filmes_7['Elenco']:\n",
    "    elenco = json.loads(elenco)\n",
    "    for membro in elenco:\n",
    "        f7_elenco.append(membro['name'])\n",
    "\n",
    "for equipe in filmes_7['Equipe']:\n",
    "    equipe = json.loads(equipe)\n",
    "    for membro in equipe:\n",
    "        if membro['job'] == 'Director':\n",
    "            f7_equipe.append(membro['name'])\n",
    "        if membro['job'] == 'Screenplay':\n",
    "            f7_equipe.append(membro['name'])\n",
    "        if membro['job'] == 'Producer':\n",
    "            f7_equipe.append(membro['name'])\n",
    "\n",
    "            \n",
    "f8_elenco = []\n",
    "f8_equipe = []\n",
    "\n",
    "for elenco in filmes_8['Elenco']:\n",
    "    elenco = json.loads(elenco)\n",
    "    for membro in elenco:\n",
    "        f8_elenco.append(membro['name'])\n",
    "\n",
    "for equipe in filmes_8['Equipe']:\n",
    "    equipe = json.loads(equipe)\n",
    "    for membro in equipe:\n",
    "        if membro['job'] == 'Director':\n",
    "            f8_equipe.append(membro['name'])\n",
    "        if membro['job'] == 'Screenplay':\n",
    "            f8_equipe.append(membro['name'])\n",
    "        if membro['job'] == 'Producer':\n",
    "            f8_equipe.append(membro['name'])\n",
    "\n",
    "            \n",
    "total_elenco_3 = len(f3_elenco)\n",
    "total_equipe_3 = len(f3_equipe)\n",
    "\n",
    "total_elenco_4 = len(f4_elenco)\n",
    "total_equipe_4 = len(f4_equipe)\n",
    "\n",
    "total_elenco_5 = len(f5_elenco)\n",
    "total_equipe_5 = len(f5_equipe)\n",
    "\n",
    "total_elenco_6 = len(f6_elenco)\n",
    "total_equipe_6 = len(f6_equipe)\n",
    "\n",
    "total_elenco_7 = len(f7_elenco)\n",
    "total_equipe_7 = len(f7_equipe)\n",
    "\n",
    "total_elenco_8 = len(f8_elenco)\n",
    "total_equipe_8 = len(f8_equipe)\n",
    "\n",
    "\n",
    "f3_elenco_recorrencia = dict(Counter(f3_elenco))\n",
    "f3_equipe_recorrencia = dict(Counter(f3_equipe))\n",
    "\n",
    "f4_elenco_recorrencia = dict(Counter(f4_elenco))\n",
    "f4_equipe_recorrencia = dict(Counter(f4_equipe))\n",
    "\n",
    "f5_elenco_recorrencia = dict(Counter(f5_elenco))\n",
    "f5_equipe_recorrencia = dict(Counter(f5_equipe))\n",
    "\n",
    "f6_elenco_recorrencia = dict(Counter(f6_elenco))\n",
    "f6_equipe_recorrencia = dict(Counter(f6_equipe))\n",
    "\n",
    "f7_elenco_recorrencia = dict(Counter(f7_elenco))\n",
    "f7_equipe_recorrencia = dict(Counter(f7_equipe))\n",
    "\n",
    "f8_elenco_recorrencia = dict(Counter(f8_elenco))\n",
    "f8_equipe_recorrencia = dict(Counter(f8_equipe))"
   ]
  },
  {
   "cell_type": "code",
   "execution_count": 37,
   "metadata": {
    "scrolled": true
   },
   "outputs": [],
   "source": []
  },
  {
   "cell_type": "code",
   "execution_count": 55,
   "metadata": {
    "collapsed": true
   },
   "outputs": [],
   "source": [
    "a = filmes_3['Elenco']"
   ]
  },
  {
   "cell_type": "code",
   "execution_count": 56,
   "metadata": {
    "collapsed": true
   },
   "outputs": [],
   "source": [
    "a = a.head(10)"
   ]
  },
  {
   "cell_type": "code",
   "execution_count": 57,
   "metadata": {
    "collapsed": true
   },
   "outputs": [],
   "source": [
    "import json\n",
    "for i in a:\n",
    "    dic = json.loads(i)"
   ]
  },
  {
   "cell_type": "code",
   "execution_count": null,
   "metadata": {
    "collapsed": true
   },
   "outputs": [],
   "source": []
  },
  {
   "cell_type": "code",
   "execution_count": 58,
   "metadata": {},
   "outputs": [
    {
     "data": {
      "text/plain": [
       "'Will Sanderson'"
      ]
     },
     "execution_count": 58,
     "metadata": {},
     "output_type": "execute_result"
    }
   ],
   "source": [
    "dic[5]['name']"
   ]
  },
  {
   "cell_type": "code",
   "execution_count": null,
   "metadata": {
    "collapsed": true
   },
   "outputs": [],
   "source": []
  }
 ],
 "metadata": {
  "kernelspec": {
   "display_name": "Python 3",
   "language": "python",
   "name": "python3"
  },
  "language_info": {
   "codemirror_mode": {
    "name": "ipython",
    "version": 3
   },
   "file_extension": ".py",
   "mimetype": "text/x-python",
   "name": "python",
   "nbconvert_exporter": "python",
   "pygments_lexer": "ipython3",
   "version": "3.6.3"
  }
 },
 "nbformat": 4,
 "nbformat_minor": 2
}
